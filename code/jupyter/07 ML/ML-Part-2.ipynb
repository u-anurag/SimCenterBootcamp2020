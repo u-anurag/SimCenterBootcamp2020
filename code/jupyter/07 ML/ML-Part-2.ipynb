{
 "cells": [
  {
   "cell_type": "markdown",
   "metadata": {
    "colab_type": "text",
    "id": "hRTa3Ee15WsJ"
   },
   "source": [
    "# Image Classification wiht Transfer Learning "
   ]
  },
  {
   "cell_type": "markdown",
   "metadata": {
    "colab_type": "text",
    "id": "dQHMcypT3vDT"
   },
   "source": [
    "<table class=\"tfo-notebook-buttons\" align=\"left\">\n",
    "\n",
    "  <td>\n",
    "    <a target=\"_blank\" href=\"https://drive.google.com/file/d/1YNAzDri4S6H6KnltgurK4VFhEFsyWDWC/view?usp=sharing\"><img src=\"https://www.tensorflow.org/images/colab_logo_32px.png\" />Run in Google Colab or Download from Google Drive</a>\n",
    "  </td>\n",
    "\n",
    "\n",
    "</table>"
   ]
  },
  {
   "cell_type": "markdown",
   "metadata": {
    "colab_type": "text",
    "id": "2X4KyhORdSeO"
   },
   "source": [
    "In this tutorial, you will learn how to classify images of building rooves by using transfer learning from a pre-trained network.\n"
   ]
  },
  {
   "cell_type": "markdown",
   "metadata": {
    "colab_type": "text",
    "id": "v77rlkCKW0IJ"
   },
   "source": [
    "## 1. Data preparation"
   ]
  },
  {
   "cell_type": "markdown",
   "metadata": {
    "colab_type": "text",
    "id": "0GoKGm1duzgk"
   },
   "source": [
    "### 1.1 Data download"
   ]
  },
  {
   "cell_type": "code",
   "execution_count": 1,
   "metadata": {
    "colab": {
     "base_uri": "https://localhost:8080/",
     "height": 190
    },
    "colab_type": "code",
    "id": "u18c_X7QWxEV",
    "outputId": "ac7af3b9-b894-4cd4-9c38-02feb3450544"
   },
   "outputs": [
    {
     "name": "stdout",
     "output_type": "stream",
     "text": [
      "Collecting wget\n",
      "  Downloading https://files.pythonhosted.org/packages/47/6a/62e288da7bcda82b935ff0c6cfe542970f04e29c756b0e147251b2fb251f/wget-3.2.zip\n",
      "Building wheels for collected packages: wget\n",
      "  Building wheel for wget (setup.py) ... \u001b[?25l\u001b[?25hdone\n",
      "  Created wheel for wget: filename=wget-3.2-cp36-none-any.whl size=9682 sha256=1b81d9b863d5784451d467d074a04835545f3e12c86320076752d0a0250cea0a\n",
      "  Stored in directory: /root/.cache/pip/wheels/40/15/30/7d8f7cea2902b4db79e3fea550d7d7b85ecb27ef992b618f3f\n",
      "Successfully built wget\n",
      "Installing collected packages: wget\n",
      "Successfully installed wget-3.2\n"
     ]
    }
   ],
   "source": [
    "# We'll need wget for downloading images in this example. \n",
    "# So, install wget firstly.\n",
    "!pip install wget"
   ]
  },
  {
   "cell_type": "code",
   "execution_count": 2,
   "metadata": {
    "colab": {},
    "colab_type": "code",
    "id": "TB2ySPcD6mvJ"
   },
   "outputs": [],
   "source": [
    "# Import packages \n",
    "import wget\n",
    "import zipfile\n",
    "import shutil\n",
    "\n",
    "# Download images prepared by SimCenter\n",
    "wget.download(\"https://zenodo.org/record/3986721/files/Roof_Satellite_Images.zip\", 'Roof_Satellite_Images.zip')\n",
    "\n",
    "# unzip images to a local folder\n",
    "with zipfile.ZipFile('Roof_Satellite_Images.zip', 'r') as zip_ref:\n",
    "        zip_ref.extractall('.')\n",
    "        shutil.rmtree('__MACOSX')\n",
    "\n"
   ]
  },
  {
   "cell_type": "code",
   "execution_count": 3,
   "metadata": {
    "colab": {
     "base_uri": "https://localhost:8080/",
     "height": 34
    },
    "colab_type": "code",
    "id": "dalhsbsiWguX",
    "outputId": "38715296-9bd2-4576-f697-86e4059a94c8"
   },
   "outputs": [
    {
     "name": "stdout",
     "output_type": "stream",
     "text": [
      "flat  gabled  hipped\n"
     ]
    }
   ],
   "source": [
    "# There images are 1000 images in each sub-folder under Roof_Satellite_Images\n",
    "!ls Roof_Satellite_Images"
   ]
  },
  {
   "cell_type": "markdown",
   "metadata": {
    "colab_type": "text",
    "id": "UVBswCqfwz2E"
   },
   "source": [
    "### 1.2 Split data"
   ]
  },
  {
   "cell_type": "code",
   "execution_count": 4,
   "metadata": {
    "colab": {},
    "colab_type": "code",
    "id": "TqOt6Sv7AsMi"
   },
   "outputs": [],
   "source": [
    "import matplotlib.pyplot as plt\n",
    "import numpy as np\n",
    "import os\n",
    "import tensorflow as tf\n",
    "from tensorflow.keras.preprocessing import image_dataset_from_directory\n",
    "from tensorflow.keras.applications.inception_v3 import preprocess_input\n"
   ]
  },
  {
   "cell_type": "code",
   "execution_count": 5,
   "metadata": {
    "colab": {
     "base_uri": "https://localhost:8080/",
     "height": 136
    },
    "colab_type": "code",
    "id": "sY6Nz0zF9mK0",
    "outputId": "7ef30169-6bbe-49a2-8f52-c6cf56641d08"
   },
   "outputs": [
    {
     "name": "stdout",
     "output_type": "stream",
     "text": [
      "* First split the data with 8:2.\n",
      "Found 3000 files belonging to 3 classes.\n",
      "Using 2400 files for training.\n",
      "Found 3000 files belonging to 3 classes.\n",
      "Using 600 files for validation.\n",
      "* Then take 20% out of the validation for final testing.\n",
      "The names of the classes are:  ['flat', 'gabled', 'hipped']\n"
     ]
    }
   ],
   "source": [
    "img_dir = 'Roof_Satellite_Images'\n",
    "image_size = (256, 256)\n",
    "batch_size = 32\n",
    "\n",
    "print('* First split the data with 8:2.')\n",
    "train_ds = tf.keras.preprocessing.image_dataset_from_directory(\n",
    "    img_dir,\n",
    "    validation_split=0.2,\n",
    "    subset=\"training\",\n",
    "    seed=1993,\n",
    "    image_size=image_size,\n",
    "    batch_size=batch_size,\n",
    "    label_mode='categorical'\n",
    ")\n",
    "val_ds = tf.keras.preprocessing.image_dataset_from_directory(\n",
    "    img_dir,\n",
    "    validation_split=0.2,\n",
    "    subset=\"validation\",\n",
    "    seed=1993,\n",
    "    image_size=image_size,\n",
    "    batch_size=batch_size,\n",
    "    label_mode='categorical'\n",
    ")\n",
    "\n",
    "print(\"* Then take 20% out of the validation for final testing.\")\n",
    "val_batches = tf.data.experimental.cardinality(val_ds)\n",
    "test_ds = val_ds.take(val_batches // 5)\n",
    "val_ds = val_ds.skip(val_batches // 5)\n",
    "\n",
    "class_names = train_ds.class_names\n",
    "print('The names of the classes are: ',class_names)\n",
    "\n",
    "\n",
    "# Configure the dataset for performance \n",
    "AUTOTUNE = tf.data.experimental.AUTOTUNE\n",
    "train_ds = train_ds.prefetch(buffer_size=AUTOTUNE)\n",
    "val_ds = val_ds.prefetch(buffer_size=AUTOTUNE)\n",
    "test_ds = test_ds.prefetch(buffer_size=AUTOTUNE)"
   ]
  },
  {
   "cell_type": "markdown",
   "metadata": {
    "colab_type": "text",
    "id": "OkH-kazQecHB"
   },
   "source": [
    "## 2. Create model \n"
   ]
  },
  {
   "cell_type": "markdown",
   "metadata": {
    "colab_type": "text",
    "id": "gkdEBDlB2FVx"
   },
   "source": [
    "### 2.1 Load the pre-trained base model"
   ]
  },
  {
   "cell_type": "code",
   "execution_count": 6,
   "metadata": {
    "colab": {
     "base_uri": "https://localhost:8080/",
     "height": 71
    },
    "colab_type": "code",
    "id": "19IQ2gqneqmS",
    "outputId": "8df2e762-3c1c-4a30-f692-84c985cd9d94"
   },
   "outputs": [
    {
     "name": "stdout",
     "output_type": "stream",
     "text": [
      "Downloading data from https://storage.googleapis.com/tensorflow/keras-applications/inception_v3/inception_v3_weights_tf_dim_ordering_tf_kernels_notop.h5\n",
      "87916544/87910968 [==============================] - 4s 0us/step\n"
     ]
    }
   ],
   "source": [
    "# Load InceptionV3 model pre-trained on imagenet\n",
    "base_model = tf.keras.applications.InceptionV3(input_shape=image_size + (3,),\n",
    "                                               include_top=False,\n",
    "                                               weights='imagenet')\n",
    "# Freeze the base model\n",
    "base_model.trainable = False"
   ]
  },
  {
   "cell_type": "markdown",
   "metadata": {
    "colab_type": "text",
    "id": "wdMRM8YModbk"
   },
   "source": [
    "### 2.2 Add preprocessing layers and a classification head to build the model\n",
    "(Chaining together the data preprocessing, base_model and feature extractor layers using the [Keras Functional API](https://www.tensorflow.org/guide/keras/functional)). "
   ]
  },
  {
   "cell_type": "code",
   "execution_count": 7,
   "metadata": {
    "colab": {},
    "colab_type": "code",
    "id": "dLnpMF5KOALm"
   },
   "outputs": [],
   "source": [
    "# Pre-processing layer\n",
    "inputs = tf.keras.Input(shape=image_size + (3,))\n",
    "x = preprocess_input(inputs) \n",
    "\n",
    "# Then go into the backbone model\n",
    "x = base_model(x)\n",
    "\n",
    "# Then go into the classification header\n",
    "x = tf.keras.layers.GlobalAveragePooling2D()(x)\n",
    "x = tf.keras.layers.Dropout(0.6)(x) # You can change the dropout rate \n",
    "prediction_layer = tf.keras.layers.Dense(len(class_names), activation='softmax')\n",
    "outputs = prediction_layer(x)\n",
    "\n",
    "# Put them together\n",
    "model = tf.keras.Model(inputs, outputs)\n",
    "\n"
   ]
  },
  {
   "cell_type": "markdown",
   "metadata": {
    "colab_type": "text",
    "id": "g0ylJXE_kRLi"
   },
   "source": [
    "### 2.3 Compile the model\n",
    "\n"
   ]
  },
  {
   "cell_type": "code",
   "execution_count": 8,
   "metadata": {
    "colab": {
     "base_uri": "https://localhost:8080/",
     "height": 391
    },
    "colab_type": "code",
    "id": "RpR8HdyMhukJ",
    "outputId": "4ba48342-fc23-44a3-b82f-1becc92dc9df"
   },
   "outputs": [
    {
     "name": "stdout",
     "output_type": "stream",
     "text": [
      "Model: \"functional_1\"\n",
      "_________________________________________________________________\n",
      "Layer (type)                 Output Shape              Param #   \n",
      "=================================================================\n",
      "input_2 (InputLayer)         [(None, 256, 256, 3)]     0         \n",
      "_________________________________________________________________\n",
      "tf_op_layer_RealDiv (TensorF [(None, 256, 256, 3)]     0         \n",
      "_________________________________________________________________\n",
      "tf_op_layer_Sub (TensorFlowO [(None, 256, 256, 3)]     0         \n",
      "_________________________________________________________________\n",
      "inception_v3 (Functional)    (None, 6, 6, 2048)        21802784  \n",
      "_________________________________________________________________\n",
      "global_average_pooling2d (Gl (None, 2048)              0         \n",
      "_________________________________________________________________\n",
      "dropout (Dropout)            (None, 2048)              0         \n",
      "_________________________________________________________________\n",
      "dense (Dense)                (None, 3)                 6147      \n",
      "=================================================================\n",
      "Total params: 21,808,931\n",
      "Trainable params: 6,147\n",
      "Non-trainable params: 21,802,784\n",
      "_________________________________________________________________\n"
     ]
    }
   ],
   "source": [
    "base_learning_rate = 0.0001\n",
    "model.compile(optimizer=tf.keras.optimizers.Adam(lr=base_learning_rate),\n",
    "              loss=tf.keras.losses.CategoricalCrossentropy(from_logits=True),\n",
    "              metrics=['accuracy'])\n",
    "model.summary()"
   ]
  },
  {
   "cell_type": "markdown",
   "metadata": {
    "colab_type": "text",
    "id": "RxvgOYTDSWTx"
   },
   "source": [
    "## 3. Train the model\n",
    "\n",
    "\n"
   ]
  },
  {
   "cell_type": "code",
   "execution_count": null,
   "metadata": {
    "colab": {
     "base_uri": "https://localhost:8080/",
     "height": 901
    },
    "colab_type": "code",
    "id": "JsaRFlZ9B6WK",
    "outputId": "dfcc7ce3-0538-4b91-c003-507f70905f19"
   },
   "outputs": [
    {
     "name": "stdout",
     "output_type": "stream",
     "text": [
      "Epoch 1/30\n",
      "75/75 [==============================] - 23s 301ms/step - loss: 1.1131 - accuracy: 0.3625 - val_loss: 1.0528 - val_accuracy: 0.4841\n",
      "Epoch 2/30\n",
      "75/75 [==============================] - 20s 265ms/step - loss: 1.0569 - accuracy: 0.4525 - val_loss: 1.0099 - val_accuracy: 0.5337\n",
      "Epoch 3/30\n",
      "75/75 [==============================] - 20s 265ms/step - loss: 1.0169 - accuracy: 0.5142 - val_loss: 0.9712 - val_accuracy: 0.5635\n",
      "Epoch 4/30\n",
      "75/75 [==============================] - 20s 266ms/step - loss: 0.9893 - accuracy: 0.5371 - val_loss: 0.9466 - val_accuracy: 0.5833\n",
      "Epoch 5/30\n",
      "75/75 [==============================] - 20s 265ms/step - loss: 0.9512 - accuracy: 0.5967 - val_loss: 0.9085 - val_accuracy: 0.6845\n",
      "Epoch 6/30\n",
      "75/75 [==============================] - 20s 266ms/step - loss: 0.9296 - accuracy: 0.6158 - val_loss: 0.8948 - val_accuracy: 0.6944\n",
      "Epoch 7/30\n",
      "75/75 [==============================] - 20s 266ms/step - loss: 0.9097 - accuracy: 0.6488 - val_loss: 0.8705 - val_accuracy: 0.7143\n",
      "Epoch 8/30\n",
      "75/75 [==============================] - 20s 264ms/step - loss: 0.8893 - accuracy: 0.6587 - val_loss: 0.8524 - val_accuracy: 0.7321\n",
      "Epoch 9/30\n",
      "75/75 [==============================] - 20s 265ms/step - loss: 0.8776 - accuracy: 0.6771 - val_loss: 0.8608 - val_accuracy: 0.7024\n",
      "Epoch 10/30\n",
      "75/75 [==============================] - 20s 265ms/step - loss: 0.8679 - accuracy: 0.6879 - val_loss: 0.8444 - val_accuracy: 0.7381\n",
      "Epoch 11/30\n",
      "75/75 [==============================] - 20s 265ms/step - loss: 0.8631 - accuracy: 0.6913 - val_loss: 0.8378 - val_accuracy: 0.7262\n",
      "Epoch 12/30\n",
      "75/75 [==============================] - 20s 264ms/step - loss: 0.8483 - accuracy: 0.7117 - val_loss: 0.8325 - val_accuracy: 0.7440\n",
      "Epoch 13/30\n",
      "75/75 [==============================] - 20s 264ms/step - loss: 0.8416 - accuracy: 0.7167 - val_loss: 0.8370 - val_accuracy: 0.7282\n",
      "Epoch 14/30\n",
      "75/75 [==============================] - 20s 266ms/step - loss: 0.8362 - accuracy: 0.7287 - val_loss: 0.8252 - val_accuracy: 0.7381\n",
      "Epoch 15/30\n",
      "75/75 [==============================] - 20s 264ms/step - loss: 0.8376 - accuracy: 0.7100 - val_loss: 0.8201 - val_accuracy: 0.7440\n",
      "Epoch 16/30\n",
      "75/75 [==============================] - 20s 265ms/step - loss: 0.8247 - accuracy: 0.7354 - val_loss: 0.8233 - val_accuracy: 0.7361\n",
      "Epoch 17/30\n",
      "75/75 [==============================] - 20s 265ms/step - loss: 0.8300 - accuracy: 0.7192 - val_loss: 0.8209 - val_accuracy: 0.7341\n",
      "Epoch 18/30\n",
      "75/75 [==============================] - 20s 265ms/step - loss: 0.8186 - accuracy: 0.7425 - val_loss: 0.8153 - val_accuracy: 0.7401\n",
      "Epoch 19/30\n",
      "75/75 [==============================] - 20s 266ms/step - loss: 0.8172 - accuracy: 0.7379 - val_loss: 0.8183 - val_accuracy: 0.7381\n",
      "Epoch 20/30\n",
      "75/75 [==============================] - 20s 265ms/step - loss: 0.8167 - accuracy: 0.7408 - val_loss: 0.8049 - val_accuracy: 0.7520\n",
      "Epoch 21/30\n",
      "75/75 [==============================] - 20s 264ms/step - loss: 0.8143 - accuracy: 0.7408 - val_loss: 0.8179 - val_accuracy: 0.7361\n",
      "Epoch 22/30\n",
      "75/75 [==============================] - 20s 265ms/step - loss: 0.8105 - accuracy: 0.7471 - val_loss: 0.8117 - val_accuracy: 0.7460\n",
      "Epoch 23/30\n",
      "75/75 [==============================] - 20s 264ms/step - loss: 0.8095 - accuracy: 0.7454 - val_loss: 0.8117 - val_accuracy: 0.7421\n",
      "Epoch 24/30\n",
      "75/75 [==============================] - 20s 265ms/step - loss: 0.8064 - accuracy: 0.7579 - val_loss: 0.7970 - val_accuracy: 0.7520\n",
      "Epoch 25/30\n",
      "75/75 [==============================] - 20s 264ms/step - loss: 0.8022 - accuracy: 0.7542 - val_loss: 0.8121 - val_accuracy: 0.7361\n",
      "Epoch 26/30\n",
      "75/75 [==============================] - ETA: 0s - loss: 0.8020 - accuracy: 0.7575"
     ]
    }
   ],
   "source": [
    "initial_epochs = 30\n",
    "history = model.fit(train_ds, epochs=initial_epochs, validation_data=val_ds)"
   ]
  },
  {
   "cell_type": "code",
   "execution_count": null,
   "metadata": {
    "colab": {},
    "colab_type": "code",
    "id": "53OTCh3jnbwV"
   },
   "outputs": [],
   "source": [
    "# Plot learning curves\n",
    "\n",
    "acc = history.history['accuracy']\n",
    "val_acc = history.history['val_accuracy']\n",
    "\n",
    "loss = history.history['loss']\n",
    "val_loss = history.history['val_loss']\n",
    "\n",
    "plt.figure(figsize=(8, 8))\n",
    "plt.subplot(2, 1, 1)\n",
    "plt.plot(acc, label='Training Accuracy')\n",
    "plt.plot(val_acc, label='Validation Accuracy')\n",
    "plt.legend(loc='lower right')\n",
    "plt.ylabel('Accuracy')\n",
    "plt.ylim([min(plt.ylim()),1])\n",
    "plt.title('Training and Validation Accuracy')\n",
    "\n",
    "plt.subplot(2, 1, 2)\n",
    "plt.plot(loss, label='Training Loss')\n",
    "plt.plot(val_loss, label='Validation Loss')\n",
    "plt.legend(loc='upper right')\n",
    "plt.ylabel('Cross Entropy')\n",
    "plt.ylim([0,1.0])\n",
    "plt.title('Training and Validation Loss')\n",
    "plt.xlabel('epoch')\n",
    "plt.show()"
   ]
  },
  {
   "cell_type": "markdown",
   "metadata": {
    "colab_type": "text",
    "id": "CqwV-CRdS6Nv"
   },
   "source": [
    "## 4. Fine tuning\n"
   ]
  },
  {
   "cell_type": "markdown",
   "metadata": {
    "colab_type": "text",
    "id": "CPXnzUK0QonF"
   },
   "source": [
    "### 4.1 Un-freeze the top layers of the model\n"
   ]
  },
  {
   "cell_type": "code",
   "execution_count": null,
   "metadata": {
    "colab": {},
    "colab_type": "code",
    "id": "-4HgVAacRs5v"
   },
   "outputs": [],
   "source": [
    "# Un-freeze the whole base model\n",
    "base_model.trainable = True\n",
    "\n",
    "# Fine-tune from this layer onwards\n",
    "fine_tune_at = 300 # There are a total of 311 layer\n",
    "\n",
    "# Freeze all the layers before the `fine_tune_at` layer\n",
    "for layer in base_model.layers[:fine_tune_at]:\n",
    "  layer.trainable =  False\n"
   ]
  },
  {
   "cell_type": "markdown",
   "metadata": {
    "colab_type": "text",
    "id": "4Uk1dgsxT0IS"
   },
   "source": [
    "### 4.2 Compile the model\n"
   ]
  },
  {
   "cell_type": "code",
   "execution_count": null,
   "metadata": {
    "colab": {},
    "colab_type": "code",
    "id": "NtUnaz0WUDva"
   },
   "outputs": [],
   "source": [
    "model.compile(optimizer=tf.keras.optimizers.Adam(lr=base_learning_rate/10),\n",
    "              loss=tf.keras.losses.CategoricalCrossentropy(from_logits=True),\n",
    "              metrics=['accuracy'])\n",
    "#model.summary()"
   ]
  },
  {
   "cell_type": "markdown",
   "metadata": {
    "colab_type": "text",
    "id": "4G5O4jd6TuAG"
   },
   "source": [
    "### 4.3 Continue training the model"
   ]
  },
  {
   "cell_type": "code",
   "execution_count": null,
   "metadata": {
    "colab": {},
    "colab_type": "code",
    "id": "ECQLkAsFTlun"
   },
   "outputs": [],
   "source": [
    "fine_tune_epochs = 30\n",
    "total_epochs =  initial_epochs + fine_tune_epochs\n",
    "history_fine = model.fit(train_ds, epochs=total_epochs, initial_epoch=history.epoch[-1], validation_data=val_ds)\n"
   ]
  },
  {
   "cell_type": "code",
   "execution_count": null,
   "metadata": {
    "colab": {},
    "colab_type": "code",
    "id": "chW103JUItdk"
   },
   "outputs": [],
   "source": [
    "# Plot learning curves\n",
    "\n",
    "acc += history_fine.history['accuracy']\n",
    "val_acc += history_fine.history['val_accuracy']\n",
    "\n",
    "loss += history_fine.history['loss']\n",
    "val_loss += history_fine.history['val_loss']\n",
    "\n",
    "plt.figure(figsize=(8, 8))\n",
    "plt.subplot(2, 1, 1)\n",
    "plt.plot(acc, label='Training Accuracy')\n",
    "plt.plot(val_acc, label='Validation Accuracy')\n",
    "plt.ylim([0.8, 1])\n",
    "plt.plot([initial_epochs-1,initial_epochs-1],\n",
    "          plt.ylim(), label='Start Fine Tuning')\n",
    "plt.legend(loc='lower right')\n",
    "plt.title('Training and Validation Accuracy')\n",
    "\n",
    "plt.subplot(2, 1, 2)\n",
    "plt.plot(loss, label='Training Loss')\n",
    "plt.plot(val_loss, label='Validation Loss')\n",
    "plt.ylim([0, 1.0])\n",
    "plt.plot([initial_epochs-1,initial_epochs-1],\n",
    "         plt.ylim(), label='Start Fine Tuning')\n",
    "plt.legend(loc='upper right')\n",
    "plt.title('Training and Validation Loss')\n",
    "plt.xlabel('epoch')\n",
    "plt.show()"
   ]
  },
  {
   "cell_type": "markdown",
   "metadata": {
    "colab_type": "text",
    "id": "R6cWgjgfrsn5"
   },
   "source": [
    "## 5. Evaluate the performance of the model"
   ]
  },
  {
   "cell_type": "code",
   "execution_count": null,
   "metadata": {
    "colab": {},
    "colab_type": "code",
    "id": "2KyNhagHwfar"
   },
   "outputs": [],
   "source": [
    "# Evaluate the overall performance on the test set\n",
    "loss, accuracy = model.evaluate(test_ds)\n",
    "print('Test accuracy :', accuracy)"
   ]
  },
  {
   "cell_type": "code",
   "execution_count": null,
   "metadata": {
    "colab": {},
    "colab_type": "code",
    "id": "5knEDLttazrC"
   },
   "outputs": [],
   "source": [
    "# Save the model in the current folder \n",
    "model.save('roof_classifier.h5') \n",
    "\n",
    "# Download the trained model to your computer\n",
    "from google.colab import files\n",
    "files.download('roof_classifier.h5')"
   ]
  },
  {
   "cell_type": "markdown",
   "metadata": {
    "colab_type": "text",
    "id": "ilgFMCaFF7F8"
   },
   "source": [
    "## 6. Use the model for prediction"
   ]
  },
  {
   "cell_type": "code",
   "execution_count": null,
   "metadata": {
    "colab": {},
    "colab_type": "code",
    "id": "pMeGYr1sFqKw"
   },
   "outputs": [],
   "source": [
    "import random\n",
    "import numpy as np\n",
    "from glob import glob\n",
    "from tensorflow.keras.preprocessing import image\n",
    "from tensorflow.keras.models import load_model\n",
    "\n",
    "\n",
    "model = load_model('roof_classifier.h5')\n",
    "class_names = ['flat', 'gabled', 'hipped']\n",
    "imgList = glob('Roof_Satellite_Images/*/*.png')\n",
    "\n",
    "random.shuffle(imgList)\n",
    "\n",
    "plt.figure(figsize=(10, 10))\n",
    "for i in range(9):\n",
    "  img_path = imgList[i]\n",
    "  ax = plt.subplot(3, 3, i + 1)\n",
    "  img = image.load_img(img_path, target_size=(256, 256))\n",
    "  x = image.img_to_array(img)\n",
    "  plt.imshow(x.astype(\"uint8\"))\n",
    "  \n",
    "  x = np.expand_dims(x, axis=0)\n",
    "\n",
    "  prediction = model.predict(x)\n",
    "  prediction = np.argmax(prediction[0])\n",
    "  plt.title(class_names[prediction])\n",
    "  plt.axis(\"off\")"
   ]
  }
 ],
 "metadata": {
  "accelerator": "GPU",
  "colab": {
   "collapsed_sections": [
    "v77rlkCKW0IJ",
    "0GoKGm1duzgk",
    "UVBswCqfwz2E",
    "OkH-kazQecHB",
    "gkdEBDlB2FVx",
    "wdMRM8YModbk",
    "g0ylJXE_kRLi",
    "RxvgOYTDSWTx",
    "4G5O4jd6TuAG",
    "R6cWgjgfrsn5"
   ],
   "name": "transfer_learning_InceptionV3.ipynb",
   "provenance": []
  },
  "kernelspec": {
   "display_name": "Python 3",
   "language": "python",
   "name": "python3"
  },
  "language_info": {
   "codemirror_mode": {
    "name": "ipython",
    "version": 3
   },
   "file_extension": ".py",
   "mimetype": "text/x-python",
   "name": "python",
   "nbconvert_exporter": "python",
   "pygments_lexer": "ipython3",
   "version": "3.7.0"
  }
 },
 "nbformat": 4,
 "nbformat_minor": 1
}
